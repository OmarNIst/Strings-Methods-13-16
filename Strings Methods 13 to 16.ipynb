{
 "cells": [
  {
   "cell_type": "code",
   "execution_count": 1,
   "metadata": {},
   "outputs": [
    {
     "name": "stdout",
     "output_type": "stream",
     "text": [
      "13\n",
      "24\n",
      "####I love python#####\n",
      "I love python\n",
      "####I love python#####\n",
      "####I love python\n",
      "####I love python#####\n",
      "I love python#####\n"
     ]
    }
   ],
   "source": [
    "#-----------------\n",
    "# strings Methods \n",
    "#-----------------\n",
    "# len() function   is a built in function \n",
    "a = \"I love Python\"\n",
    "print(len(a))\n",
    "# this function will find the number of elements inside the object a\n",
    "b = \"      I  love Python    \"\n",
    "print(len(b))\n",
    "# the spaces are evaluated in the len\n",
    "#-----------------\n",
    "# strip()   rstrip()     lstrip()\n",
    "\n",
    "a = \"####I love python#####\"\n",
    "print(a.strip()) #  This will remove the space only\n",
    "print(a.strip(\"#\")) #This will remove the #\n",
    "print(a.rstrip())  # This will remove the spaces from right only\n",
    "print(a.rstrip(\"#\"))\n",
    "print(a.lstrip()) # This will remove the space from the Left\n",
    "print(a.lstrip(\"#\")) # This will remove the # from the Left\n",
    "\n"
   ]
  },
  {
   "cell_type": "code",
   "execution_count": 7,
   "metadata": {},
   "outputs": [
    {
     "name": "stdout",
     "output_type": "stream",
     "text": [
      "@#@#@#I love python#@#@#@#@\n",
      "#@#@#@#I love python#@#@#@#@\n",
      "@#@#@#I love python#@#@#@#@#\n",
      "I love python\n",
      "#@#@#@#I love python\n",
      "I love python#@#@#@#@#\n"
     ]
    }
   ],
   "source": [
    "#--------- if we have more than one Character  \n",
    "a = \"#@#@#@#I love python#@#@#@#@#\"\n",
    "\n",
    "print(a.strip(\"#\")) # This will not remove the #\n",
    "\n",
    "print(a.rstrip(\"#\")) # This will not remove the # and @ from the right \n",
    "\n",
    "print(a.lstrip(\"#\")) # This will not remove the # from the Left\n",
    "#---------\n",
    "a = \"#@#@#@#I love python#@#@#@#@#\"\n",
    "\n",
    "print(a.strip(\"@#\")) # This will remove the # and @ \n",
    "\n",
    "print(a.rstrip(\"@#\")) # This will remove the # and @ from the right \n",
    "\n",
    "print(a.lstrip(\"@#\")) # This will remove the # and @  from the Left"
   ]
  },
  {
   "cell_type": "code",
   "execution_count": 10,
   "metadata": {},
   "outputs": [
    {
     "name": "stdout",
     "output_type": "stream",
     "text": [
      " I Love 2D Graphics And 3G Technology And Python  \n",
      " i love 2d graphics and 3g technology and python  \n"
     ]
    }
   ],
   "source": [
    "# title() it will make the first letter is Capital  \n",
    "b = \" I Love 2d Graphics and 3g Technology and python  \"\n",
    "print(b.title())\n",
    "#Capitalize   the same as before but the letters after the numbers \n",
    "# will not affected\n",
    "print(b.capitalize())"
   ]
  },
  {
   "cell_type": "code",
   "execution_count": 15,
   "metadata": {},
   "outputs": [
    {
     "name": "stdout",
     "output_type": "stream",
     "text": [
      "1\n",
      "2\n",
      "111\n",
      "0001\n",
      "0111\n"
     ]
    }
   ],
   "source": [
    "# zfill\n",
    "c , d ,e = \"1\",\"2\",\"111\"\n",
    "\n",
    "print(c)\n",
    "print(d)\n",
    "print(e)\n",
    "\n",
    "print(c.zfill(4)) # how many zeros will be beside the number\n",
    "\n",
    "print(e.zfill(4))  \n",
    "# it depend on the number of the decimals of the number"
   ]
  },
  {
   "cell_type": "code",
   "execution_count": 18,
   "metadata": {},
   "outputs": [
    {
     "name": "stdout",
     "output_type": "stream",
     "text": [
      "OMAR\n",
      "omar\n"
     ]
    }
   ],
   "source": [
    "# upper & lower \n",
    "g = \"omar\"\n",
    "print(g.upper())\n",
    "z = \"OMAR\"\n",
    "print(z.lower())"
   ]
  },
  {
   "cell_type": "code",
   "execution_count": 23,
   "metadata": {},
   "outputs": [
    {
     "name": "stdout",
     "output_type": "stream",
     "text": [
      "['I', 'Love', 'Python', 'and', 'c', '#']\n",
      "<class 'list'>\n",
      "['I-Love-Python-and-c#']\n",
      "['I', 'Love', 'Python', 'and', 'c#']\n"
     ]
    }
   ],
   "source": [
    "#Split()       This function depends on the spaces\n",
    "a = \" I Love Python and c # \"  \n",
    "print(a.split())\n",
    "print(type(a.split()))\n",
    "b = \"I-Love-Python-and-c#\"\n",
    "print(b.split())\n",
    "# but you can select the separator \n",
    "print(b.split(\"-\"))\n"
   ]
  },
  {
   "cell_type": "code",
   "execution_count": 7,
   "metadata": {},
   "outputs": [
    {
     "name": "stdout",
     "output_type": "stream",
     "text": [
      "<class 'str'>\n",
      "['I', 'love', 'python', 'and', 'PHP']\n",
      "<class 'list'>\n",
      "['ILovepythonandPHP']\n"
     ]
    }
   ],
   "source": [
    "# new lesson 14 from zero web school \n",
    "a = \" I love python and PHP\"\n",
    "print(type(a))\n",
    "print(a.split())\n",
    "print(type(a.split()))\n",
    "# split : is dividing the elemint depending on the space\n",
    "b =\" ILovepythonandPHP\"\n",
    "print(b.split())  "
   ]
  },
  {
   "cell_type": "code",
   "execution_count": 9,
   "metadata": {},
   "outputs": [
    {
     "name": "stdout",
     "output_type": "stream",
     "text": [
      "['I-Love-Python']\n",
      "[' I', 'Love', 'Python ']\n"
     ]
    }
   ],
   "source": [
    "b = \" I-Love-Python \"\n",
    "print(b.split())\n",
    "print(b.split(\"-\"))\n"
   ]
  },
  {
   "cell_type": "code",
   "execution_count": 17,
   "metadata": {},
   "outputs": [
    {
     "name": "stdout",
     "output_type": "stream",
     "text": [
      "  Osama  \n",
      "# Osama #\n",
      "@@@@ Osama @@@@\n",
      " Osama&Omar \n",
      " Osama&Omar \n",
      " Osama&Omar \n"
     ]
    }
   ],
   "source": [
    "e = \" Osama \"\n",
    "print(e.center(9))  # we must put something inside the paranthese\n",
    "print(e.center(9, \"#\"))\n",
    "print(e.center(15, \"@\"))\n",
    "\n",
    "c = \" Osama&Omar \"\n",
    "print(c.center(9))  # we must put something inside the paranthese\n",
    "print(c.center(9, \"#\"))\n",
    "print(c.center(9, \"@\"))   # since 9 is less than c"
   ]
  },
  {
   "cell_type": "code",
   "execution_count": 1,
   "metadata": {},
   "outputs": [
    {
     "name": "stdout",
     "output_type": "stream",
     "text": [
      "2\n"
     ]
    }
   ],
   "source": [
    "f = \" I Love Python and PHP because PHP is Easy \"\n",
    "print(f.count(\"PHP\"))"
   ]
  },
  {
   "cell_type": "code",
   "execution_count": 2,
   "metadata": {},
   "outputs": [
    {
     "name": "stdout",
     "output_type": "stream",
     "text": [
      " i lOVE PYTHON \n",
      " I Love Python \n"
     ]
    }
   ],
   "source": [
    "# swapcase()    : This command for replacing capital with small\n",
    "g = \" I Love python \"\n",
    "h = \" i lOVE pYTHON \" \n",
    "print(g.swapcase())   \n",
    "print(h.swapcase())"
   ]
  },
  {
   "cell_type": "code",
   "execution_count": 7,
   "metadata": {},
   "outputs": [
    {
     "name": "stdout",
     "output_type": "stream",
     "text": [
      "7\n",
      "7\n"
     ]
    }
   ],
   "source": [
    "# index(SubString,Start,End)\n",
    "a = \"I Love Python\"\n",
    "print(a.index(\"P\"))   # Index Number 7\n",
    "print(a.index(\"P\",0,10)) # to find if P is in a , but with the range between (0,10)\n",
    "# print(a.index(\"P\",0,5)) # This will give an Error"
   ]
  },
  {
   "cell_type": "code",
   "execution_count": 7,
   "metadata": {},
   "outputs": [
    {
     "name": "stdout",
     "output_type": "stream",
     "text": [
      "Osama\n",
      "     Osama\n",
      "#####Osama\n",
      "###############Osama\n",
      "Osama\n",
      "Osama     \n",
      "Osama#####\n",
      "Osama###############\n"
     ]
    }
   ],
   "source": [
    "# rjust(width, Fill Char) \n",
    "c = \"Osama\"\n",
    "print(c)\n",
    "print(c.rjust(10))  # to put distance before \n",
    "print(c.rjust(10,\"#\"))\n",
    "print(c.rjust(20,\"#\"))\n",
    "\n",
    "#ljust(Width, Fill Char)\n",
    "d = \"Osama\"\n",
    "print(d)\n",
    "print(d.ljust(10))  # to put distance after \n",
    "print(d.ljust(10,\"#\"))\n",
    "print(d.ljust(20,\"#\"))"
   ]
  },
  {
   "cell_type": "code",
   "execution_count": 13,
   "metadata": {},
   "outputs": [
    {
     "name": "stdout",
     "output_type": "stream",
     "text": [
      "First Line\n",
      "Second Line \n",
      "Third Line\n",
      "\n",
      "['First Line', 'Second Line ', 'Third Line']\n",
      "First Line\n",
      "Second Line\n",
      "Third Line\n",
      "['First Line', 'Second Line', 'Third Line']\n"
     ]
    }
   ],
   "source": [
    "# splitlines()\n",
    "\n",
    "e = \"\"\"First Line\n",
    "Second Line \n",
    "Third Line\n",
    "\"\"\"\n",
    "print(e)\n",
    "\n",
    "# will use the split line in order to return the lines as a list\n",
    "print(e.splitlines())\n",
    "\n",
    "f = \"First Line\\nSecond Line\\nThird Line\"\n",
    "print(f)\n",
    "print(f.splitlines())"
   ]
  },
  {
   "cell_type": "code",
   "execution_count": 17,
   "metadata": {},
   "outputs": [
    {
     "name": "stdout",
     "output_type": "stream",
     "text": [
      "Hello\tWorld\tI\tLove\tPython\n",
      "HelloWorldILovePython\n",
      "Hello World I Love Python\n",
      "Hello World I Love  Python\n",
      "Hello               World               I                   Love                Python\n"
     ]
    }
   ],
   "source": [
    "# Expandtabs()\n",
    "g = \"Hello\\tWorld\\tI\\tLove\\tPython\"     # \\t => Horizontal Tab  \n",
    "print(g)\n",
    "# we can control the numbers of Tabs we have by using \n",
    "print(g.expandtabs(0))\n",
    "print(g.expandtabs(1))\n",
    "print(g.expandtabs(2))\n",
    "print(g.expandtabs(20))"
   ]
  },
  {
   "cell_type": "code",
   "execution_count": 29,
   "metadata": {},
   "outputs": [
    {
     "name": "stdout",
     "output_type": "stream",
     "text": [
      "Hello 1 Two Three 1 1\n",
      "Hello 1 Two Three One One\n",
      "Hello 1 Two Three 1 One\n"
     ]
    }
   ],
   "source": [
    "# replace(Old Value, New Value, Count)\n",
    "a = \"Hello One Two Three One One\"\n",
    "# replace(Old Value, New Value)\n",
    "print(a.replace(\"One\",\"1\"))\n",
    "# replace(Old Value, New Value, Count)\n",
    "print(a.replace(\"One\",\"1\",1)) # it will replace just once  \n",
    "print(a.replace(\"One\",\"1\",2)) # it will replace just twoice  "
   ]
  },
  {
   "cell_type": "code",
   "execution_count": 34,
   "metadata": {},
   "outputs": [
    {
     "name": "stdout",
     "output_type": "stream",
     "text": [
      "Omar-yazan-Tamem\n",
      "Omar  yazan  Tamem\n",
      "Omar , yazan , Tamem\n",
      "<class 'str'>\n"
     ]
    }
   ],
   "source": [
    "# join(Iterable)\n",
    "myList = [\"Omar\",\"yazan\",\"Tamem\"]\n",
    "\n",
    "print(\"-\".join(myList))\n",
    "print(\"  \".join(myList))\n",
    "print(\" , \".join(myList))\n",
    "print(type(\" , \".join(myList)))"
   ]
  }
 ],
 "metadata": {
  "kernelspec": {
   "display_name": "Python 3",
   "language": "python",
   "name": "python3"
  },
  "language_info": {
   "codemirror_mode": {
    "name": "ipython",
    "version": 3
   },
   "file_extension": ".py",
   "mimetype": "text/x-python",
   "name": "python",
   "nbconvert_exporter": "python",
   "pygments_lexer": "ipython3",
   "version": "3.11.2"
  },
  "orig_nbformat": 4
 },
 "nbformat": 4,
 "nbformat_minor": 2
}
